{
 "cells": [
  {
   "cell_type": "code",
   "execution_count": 1,
   "metadata": {},
   "outputs": [],
   "source": [
    "import pandas as pd\n",
    "import requests"
   ]
  },
  {
   "cell_type": "code",
   "execution_count": 10,
   "metadata": {},
   "outputs": [],
   "source": [
    "df = pd.read_csv('../data/card_price/data.csv').sample(10)"
   ]
  },
  {
   "cell_type": "code",
   "execution_count": 11,
   "metadata": {},
   "outputs": [],
   "source": [
    "csv_str = df.to_csv(index=False)"
   ]
  },
  {
   "cell_type": "code",
   "execution_count": 12,
   "metadata": {},
   "outputs": [],
   "source": [
    "resp = requests.post('http://127.0.0.1:8000/ch2_car_price:predict', csv_str)"
   ]
  },
  {
   "cell_type": "code",
   "execution_count": 13,
   "metadata": {},
   "outputs": [
    {
     "data": {
      "text/plain": [
       "[{'price': 27130.205176971755, 'seq': 0},\n",
       " {'price': 1998.7741875977106, 'seq': 1},\n",
       " {'price': 34807.06557358749, 'seq': 2},\n",
       " {'price': 38159.810374747765, 'seq': 3},\n",
       " {'price': 51340.14071608613, 'seq': 4},\n",
       " {'price': 30285.016732250664, 'seq': 5},\n",
       " {'price': 3669.849993911893, 'seq': 6},\n",
       " {'price': 45855.73325402898, 'seq': 7},\n",
       " {'price': 42963.02758933021, 'seq': 8},\n",
       " {'price': 51883.495357223204, 'seq': 9}]"
      ]
     },
     "execution_count": 13,
     "metadata": {},
     "output_type": "execute_result"
    }
   ],
   "source": [
    "resp.json()"
   ]
  }
 ],
 "metadata": {
  "kernelspec": {
   "display_name": "Python 3.9.13 ('ml-zoomcamp-5e_EmHlr-py3.9')",
   "language": "python",
   "name": "python3"
  },
  "language_info": {
   "codemirror_mode": {
    "name": "ipython",
    "version": 3
   },
   "file_extension": ".py",
   "mimetype": "text/x-python",
   "name": "python",
   "nbconvert_exporter": "python",
   "pygments_lexer": "ipython3",
   "version": "3.9.13"
  },
  "orig_nbformat": 4,
  "vscode": {
   "interpreter": {
    "hash": "b4bc4b6ed1e2567043cad1030788dc5c503b3018155577f40296676f926e642c"
   }
  }
 },
 "nbformat": 4,
 "nbformat_minor": 2
}
