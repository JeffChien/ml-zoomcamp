{
 "cells": [
  {
   "cell_type": "code",
   "execution_count": 17,
   "metadata": {},
   "outputs": [],
   "source": [
    "import pandas as pd\n",
    "import requests"
   ]
  },
  {
   "cell_type": "code",
   "execution_count": 18,
   "metadata": {},
   "outputs": [],
   "source": [
    "df = pd.read_csv('../data/card_price/data.csv').sample(10)"
   ]
  },
  {
   "cell_type": "code",
   "execution_count": 19,
   "metadata": {},
   "outputs": [],
   "source": [
    "csv_str = df.to_csv(index=False)"
   ]
  },
  {
   "cell_type": "code",
   "execution_count": 20,
   "metadata": {},
   "outputs": [
    {
     "name": "stdout",
     "output_type": "stream",
     "text": [
      "http://127.0.0.1:9090/ml-zoomcamp/ch2/car-price/predict\n"
     ]
    }
   ],
   "source": [
    "host = '127.0.0.1:9090'\n",
    "prefix = '/ml-zoomcamp'\n",
    "path='/ch2/car-price/predict'\n",
    "url = f'http://{host}{prefix}{path}'\n",
    "print(url)\n",
    "\n",
    "resp = requests.post(url, csv_str)"
   ]
  },
  {
   "cell_type": "code",
   "execution_count": 22,
   "metadata": {},
   "outputs": [
    {
     "data": {
      "text/plain": [
       "<Response [404]>"
      ]
     },
     "execution_count": 22,
     "metadata": {},
     "output_type": "execute_result"
    }
   ],
   "source": [
    "resp"
   ]
  },
  {
   "cell_type": "code",
   "execution_count": 6,
   "metadata": {},
   "outputs": [
    {
     "data": {
      "text/plain": [
       "[{'price': 2138.7456574596185, 'seq': 0},\n",
       " {'price': 25421.495275939862, 'seq': 1},\n",
       " {'price': 15530.273630629263, 'seq': 2},\n",
       " {'price': 31040.862158632528, 'seq': 3},\n",
       " {'price': 16737.75530936053, 'seq': 4},\n",
       " {'price': 23754.92548961984, 'seq': 5},\n",
       " {'price': 26207.838150617674, 'seq': 6},\n",
       " {'price': 33159.85284686362, 'seq': 7},\n",
       " {'price': 40883.42751731011, 'seq': 8},\n",
       " {'price': 1988.9423711923043, 'seq': 9}]"
      ]
     },
     "execution_count": 6,
     "metadata": {},
     "output_type": "execute_result"
    }
   ],
   "source": [
    "resp.json()"
   ]
  }
 ],
 "metadata": {
  "kernelspec": {
   "display_name": "Python 3.9.13 ('ml-zoomcamp-5e_EmHlr-py3.9')",
   "language": "python",
   "name": "python3"
  },
  "language_info": {
   "codemirror_mode": {
    "name": "ipython",
    "version": 3
   },
   "file_extension": ".py",
   "mimetype": "text/x-python",
   "name": "python",
   "nbconvert_exporter": "python",
   "pygments_lexer": "ipython3",
   "version": "3.9.13"
  },
  "orig_nbformat": 4,
  "vscode": {
   "interpreter": {
    "hash": "b4bc4b6ed1e2567043cad1030788dc5c503b3018155577f40296676f926e642c"
   }
  }
 },
 "nbformat": 4,
 "nbformat_minor": 2
}
