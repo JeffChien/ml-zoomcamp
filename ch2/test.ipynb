{
 "cells": [
  {
   "cell_type": "code",
   "execution_count": 32,
   "metadata": {},
   "outputs": [],
   "source": [
    "import pandas as pd\n",
    "import requests"
   ]
  },
  {
   "cell_type": "code",
   "execution_count": 33,
   "metadata": {},
   "outputs": [],
   "source": [
    "df = pd.read_csv('../data/card_price/data.csv').sample(10)"
   ]
  },
  {
   "cell_type": "code",
   "execution_count": 34,
   "metadata": {},
   "outputs": [],
   "source": [
    "csv_str = df.to_csv(index=False)"
   ]
  },
  {
   "cell_type": "code",
   "execution_count": 53,
   "metadata": {},
   "outputs": [
    {
     "name": "stdout",
     "output_type": "stream",
     "text": [
      "http://127.0.0.1:9090/ml-zoomcamp/ch2_car_price:predict\n"
     ]
    }
   ],
   "source": [
    "host = '127.0.0.1:9090'\n",
    "prefix = '/ml-zoomcamp'\n",
    "path='/ch2_car_price:predict'\n",
    "url = f'http://{host}{prefix}{path}'\n",
    "print(url)\n",
    "\n",
    "resp = requests.post(url, csv_str)"
   ]
  },
  {
   "cell_type": "code",
   "execution_count": 51,
   "metadata": {},
   "outputs": [
    {
     "data": {
      "text/plain": [
       "<Response [200]>"
      ]
     },
     "execution_count": 51,
     "metadata": {},
     "output_type": "execute_result"
    }
   ],
   "source": [
    "resp"
   ]
  },
  {
   "cell_type": "code",
   "execution_count": 52,
   "metadata": {},
   "outputs": [
    {
     "data": {
      "text/plain": [
       "[{'price': 222293.85354296322, 'seq': 0},\n",
       " {'price': 27022.832724933956, 'seq': 1},\n",
       " {'price': 60288.89927698104, 'seq': 2},\n",
       " {'price': 2253.3657985030177, 'seq': 3},\n",
       " {'price': 276629.8920307682, 'seq': 4},\n",
       " {'price': 20806.335565608893, 'seq': 5},\n",
       " {'price': 5455.421518259971, 'seq': 6},\n",
       " {'price': 19962.48163998507, 'seq': 7},\n",
       " {'price': 27383.055776636753, 'seq': 8},\n",
       " {'price': 33464.237139007586, 'seq': 9}]"
      ]
     },
     "execution_count": 52,
     "metadata": {},
     "output_type": "execute_result"
    }
   ],
   "source": [
    "resp.json()"
   ]
  }
 ],
 "metadata": {
  "kernelspec": {
   "display_name": "Python 3.9.13 ('ml-zoomcamp-5e_EmHlr-py3.9')",
   "language": "python",
   "name": "python3"
  },
  "language_info": {
   "codemirror_mode": {
    "name": "ipython",
    "version": 3
   },
   "file_extension": ".py",
   "mimetype": "text/x-python",
   "name": "python",
   "nbconvert_exporter": "python",
   "pygments_lexer": "ipython3",
   "version": "3.9.13"
  },
  "orig_nbformat": 4,
  "vscode": {
   "interpreter": {
    "hash": "b4bc4b6ed1e2567043cad1030788dc5c503b3018155577f40296676f926e642c"
   }
  }
 },
 "nbformat": 4,
 "nbformat_minor": 2
}
