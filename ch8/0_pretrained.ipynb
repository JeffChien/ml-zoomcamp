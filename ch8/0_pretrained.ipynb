{
 "cells": [
  {
   "cell_type": "code",
   "execution_count": 5,
   "metadata": {},
   "outputs": [],
   "source": [
    "%matplotlib inline\n",
    "\n",
    "import numpy as np\n",
    "import matplotlib.pyplot as plt\n",
    "import seaborn as sns\n",
    "import tensorflow as tf\n",
    "\n",
    "from keras.api._v2 import keras\n",
    "from keras.api._v2.keras import layers\n",
    "from keras.api._v2.keras import Sequential\n",
    "from keras.api._v2.keras.preprocessing.image import load_img\n",
    "from keras.api._v2.keras.preprocessing.image import ImageDataGenerator\n",
    "from keras.api._v2.keras.applications import xception\n",
    "from keras.api._v2.keras.metrics import sparse_categorical_accuracy\n",
    "from keras.api._v2.keras.metrics import categorical_accuracy\n",
    "import pandas as pd"
   ]
  },
  {
   "cell_type": "markdown",
   "metadata": {},
   "source": [
    "Dataset from https://github.com/alexeygrigorev/clothing-dataset-small"
   ]
  },
  {
   "cell_type": "markdown",
   "metadata": {},
   "source": [
    "## Using pretrained model Xception"
   ]
  },
  {
   "cell_type": "code",
   "execution_count": 3,
   "metadata": {},
   "outputs": [],
   "source": [
    "aimage='../data/clothing-dataset-small/train/t-shirt/5f0a3fa0-6a3d-4b68-b213-72766a643de7.jpg'\n",
    "img = np.array(load_img(aimage, target_size=(299, 299)))\n",
    "X = np.array([img])"
   ]
  },
  {
   "cell_type": "code",
   "execution_count": 6,
   "metadata": {},
   "outputs": [
    {
     "name": "stdout",
     "output_type": "stream",
     "text": [
      "Metal device set to: Apple M1 Pro\n",
      "\n",
      "systemMemory: 16.00 GB\n",
      "maxCacheSize: 5.33 GB\n",
      "\n"
     ]
    },
    {
     "name": "stderr",
     "output_type": "stream",
     "text": [
      "2022-08-16 13:02:22.517037: I tensorflow/core/common_runtime/pluggable_device/pluggable_device_factory.cc:305] Could not identify NUMA node of platform GPU ID 0, defaulting to 0. Your kernel may not have been built with NUMA support.\n",
      "2022-08-16 13:02:22.517689: I tensorflow/core/common_runtime/pluggable_device/pluggable_device_factory.cc:271] Created TensorFlow device (/job:localhost/replica:0/task:0/device:GPU:0 with 0 MB memory) -> physical PluggableDevice (device: 0, name: METAL, pci bus id: <undefined>)\n"
     ]
    },
    {
     "name": "stdout",
     "output_type": "stream",
     "text": [
      "Downloading data from https://storage.googleapis.com/tensorflow/keras-applications/xception/xception_weights_tf_dim_ordering_tf_kernels.h5\n",
      "91884032/91884032 [==============================] - 7s 0us/step\n"
     ]
    }
   ],
   "source": [
    "model = xception.Xception(weights='imagenet', input_shape=(299, 299, 3))"
   ]
  },
  {
   "cell_type": "code",
   "execution_count": 7,
   "metadata": {},
   "outputs": [
    {
     "name": "stderr",
     "output_type": "stream",
     "text": [
      "2022-08-16 13:02:34.155532: W tensorflow/core/platform/profile_utils/cpu_utils.cc:128] Failed to get CPU frequency: 0 Hz\n",
      "2022-08-16 13:02:34.449329: I tensorflow/core/grappler/optimizers/custom_graph_optimizer_registry.cc:113] Plugin optimizer for device_type GPU is enabled.\n"
     ]
    },
    {
     "name": "stdout",
     "output_type": "stream",
     "text": [
      "1/1 [==============================] - 1s 672ms/step\n",
      "Downloading data from https://storage.googleapis.com/download.tensorflow.org/data/imagenet_class_index.json\n",
      "35363/35363 [==============================] - 0s 0us/step\n"
     ]
    },
    {
     "data": {
      "text/plain": [
       "[[('n03595614', 'jersey', 0.6819641),\n",
       "  ('n02916936', 'bulletproof_vest', 0.03813984),\n",
       "  ('n04370456', 'sweatshirt', 0.034324724),\n",
       "  ('n03710637', 'maillot', 0.0113542145),\n",
       "  ('n04525038', 'velvet', 0.0018453562)]]"
      ]
     },
     "execution_count": 7,
     "metadata": {},
     "output_type": "execute_result"
    }
   ],
   "source": [
    "y_hat = model.predict(xception.preprocess_input(X))\n",
    "xception.decode_predictions(y_hat)"
   ]
  },
  {
   "cell_type": "markdown",
   "metadata": {},
   "source": [
    "The imagenet doen't have a category called T-shirt"
   ]
  },
  {
   "cell_type": "markdown",
   "metadata": {},
   "source": [
    "## 0. Preparing dataset\n",
    "\n",
    "according to the official doc. `ImageDataGenerator` is deprecated, so use the suggested alternative `keras.utils.image_dataset_from_directory`\n",
    "\n",
    "we'll apply data augmentation on training set, so only apply image scaling on validation and test set."
   ]
  },
  {
   "cell_type": "code",
   "execution_count": 9,
   "metadata": {},
   "outputs": [
    {
     "name": "stdout",
     "output_type": "stream",
     "text": [
      "Found 3068 files belonging to 10 classes.\n"
     ]
    }
   ],
   "source": [
    "train_ds = keras.utils.image_dataset_from_directory(\n",
    "    '../data/clothing-dataset-small/train/',\n",
    "    image_size=(150, 150),\n",
    "    batch_size=32,\n",
    "    shuffle=True,\n",
    "    label_mode='categorical',\n",
    ")\n",
    "classes = train_ds.class_names\n",
    "train_ds = train_ds.prefetch(buffer_size=tf.data.AUTOTUNE)"
   ]
  },
  {
   "cell_type": "code",
   "execution_count": 10,
   "metadata": {},
   "outputs": [
    {
     "name": "stdout",
     "output_type": "stream",
     "text": [
      "Found 341 files belonging to 10 classes.\n"
     ]
    }
   ],
   "source": [
    "val_ds = keras.utils.image_dataset_from_directory(\n",
    "    '../data/clothing-dataset-small/validation/',\n",
    "    image_size=(150, 150),\n",
    "    batch_size=32,\n",
    "    shuffle=False,\n",
    "    label_mode='categorical',\n",
    ").prefetch(buffer_size=tf.data.AUTOTUNE)\n",
    "val_ds = val_ds.map(lambda x, y: (xception.preprocess_input(x), y))"
   ]
  },
  {
   "cell_type": "code",
   "execution_count": 11,
   "metadata": {},
   "outputs": [
    {
     "name": "stdout",
     "output_type": "stream",
     "text": [
      "Found 372 files belonging to 10 classes.\n"
     ]
    }
   ],
   "source": [
    "test_ds = keras.utils.image_dataset_from_directory(\n",
    "    '../data/clothing-dataset-small/test/',\n",
    "    image_size=(150, 150),\n",
    "    batch_size=32,\n",
    "    shuffle=False,\n",
    "    label_mode='categorical',\n",
    ").prefetch(buffer_size=tf.data.AUTOTUNE)\n",
    "test_ds = test_ds.map(lambda x, y: (xception.preprocess_input(x), y))"
   ]
  },
  {
   "cell_type": "markdown",
   "metadata": {},
   "source": [
    "## 1. drop the last layer(top) to use our own own\n",
    "\n",
    "layers stores in a stack. so top is the final output layer in the original model.\n",
    "\n",
    "use `keras.Sequential` as much as possible because it's self-explained and looks clean."
   ]
  },
  {
   "cell_type": "markdown",
   "metadata": {},
   "source": [
    "Baseline, it's a overfitting model"
   ]
  },
  {
   "cell_type": "code",
   "execution_count": 12,
   "metadata": {},
   "outputs": [],
   "source": [
    "class WrappedXception(layers.Layer):\n",
    "    def __init__(self, **kwargs):\n",
    "        super(WrappedXception, self).__init__(**kwargs)\n",
    "        self.base_model = xception.Xception(\n",
    "            weights='imagenet',\n",
    "            include_top=False,\n",
    "            input_shape=(150, 150, 3)\n",
    "        )\n",
    "        self.base_model.trainable = False\n",
    "\n",
    "    def call(self, x, training):\n",
    "        return self.base_model(x, training=False)"
   ]
  },
  {
   "cell_type": "markdown",
   "metadata": {},
   "source": [
    "Average pooling"
   ]
  },
  {
   "cell_type": "code",
   "execution_count": 14,
   "metadata": {},
   "outputs": [],
   "source": [
    "def make_model(post_layers, learning_rate=0.001):\n",
    "    model = keras.Sequential([\n",
    "        WrappedXception(),\n",
    "        layers.GlobalAveragePooling2D(),\n",
    "        post_layers\n",
    "    ])\n",
    "    model.compile(\n",
    "        loss=keras.losses.CategoricalCrossentropy(from_logits=True, label_smoothing=0.1),\n",
    "        optimizer=keras.optimizers.Adam(learning_rate=learning_rate),\n",
    "        metrics=['accuracy']\n",
    "    )\n",
    "    return model"
   ]
  },
  {
   "cell_type": "code",
   "execution_count": 15,
   "metadata": {},
   "outputs": [
    {
     "name": "stdout",
     "output_type": "stream",
     "text": [
      "Downloading data from https://storage.googleapis.com/tensorflow/keras-applications/xception/xception_weights_tf_dim_ordering_tf_kernels_notop.h5\n",
      "83683744/83683744 [==============================] - 6s 0us/step\n",
      "Epoch 1/10\n"
     ]
    },
    {
     "name": "stderr",
     "output_type": "stream",
     "text": [
      "2022-08-16 13:05:37.698014: I tensorflow/core/grappler/optimizers/custom_graph_optimizer_registry.cc:113] Plugin optimizer for device_type GPU is enabled.\n"
     ]
    },
    {
     "name": "stdout",
     "output_type": "stream",
     "text": [
      "96/96 [==============================] - ETA: 0s - loss: 1.3613 - accuracy: 0.6353"
     ]
    },
    {
     "name": "stderr",
     "output_type": "stream",
     "text": [
      "2022-08-16 13:05:49.864882: I tensorflow/core/grappler/optimizers/custom_graph_optimizer_registry.cc:113] Plugin optimizer for device_type GPU is enabled.\n"
     ]
    },
    {
     "name": "stdout",
     "output_type": "stream",
     "text": [
      "96/96 [==============================] - 15s 138ms/step - loss: 1.3613 - accuracy: 0.6353 - val_loss: 1.0856 - val_accuracy: 0.7742\n",
      "Epoch 2/10\n",
      "96/96 [==============================] - 12s 129ms/step - loss: 1.0117 - accuracy: 0.7891 - val_loss: 1.0341 - val_accuracy: 0.7830\n",
      "Epoch 3/10\n",
      "96/96 [==============================] - 12s 129ms/step - loss: 0.9263 - accuracy: 0.8370 - val_loss: 1.0032 - val_accuracy: 0.8035\n",
      "Epoch 4/10\n",
      "96/96 [==============================] - 13s 130ms/step - loss: 0.8677 - accuracy: 0.8693 - val_loss: 0.9811 - val_accuracy: 0.8240\n",
      "Epoch 5/10\n",
      "96/96 [==============================] - 12s 128ms/step - loss: 0.8271 - accuracy: 0.8996 - val_loss: 0.9985 - val_accuracy: 0.7977\n",
      "Epoch 6/10\n",
      "96/96 [==============================] - 12s 129ms/step - loss: 0.7938 - accuracy: 0.9136 - val_loss: 0.9764 - val_accuracy: 0.8358\n",
      "Epoch 7/10\n",
      "96/96 [==============================] - 13s 130ms/step - loss: 0.7648 - accuracy: 0.9299 - val_loss: 0.9770 - val_accuracy: 0.8270\n",
      "Epoch 8/10\n",
      "96/96 [==============================] - 12s 129ms/step - loss: 0.7434 - accuracy: 0.9452 - val_loss: 0.9851 - val_accuracy: 0.8182\n",
      "Epoch 9/10\n",
      "96/96 [==============================] - 12s 129ms/step - loss: 0.7240 - accuracy: 0.9518 - val_loss: 0.9804 - val_accuracy: 0.8182\n",
      "Epoch 10/10\n",
      "96/96 [==============================] - 12s 129ms/step - loss: 0.7102 - accuracy: 0.9544 - val_loss: 0.9832 - val_accuracy: 0.8152\n"
     ]
    }
   ],
   "source": [
    "model = make_model(Sequential(\n",
    "    [layers.Dense(10, activation='linear')]\n",
    "))\n",
    "history = model.fit(train_ds.map(lambda x, y: (xception.preprocess_input(x), y)),\n",
    "    epochs=10,\n",
    "    validation_data=val_ds\n",
    ")"
   ]
  },
  {
   "cell_type": "code",
   "execution_count": 16,
   "metadata": {},
   "outputs": [
    {
     "data": {
      "text/html": [
       "<div>\n",
       "<style scoped>\n",
       "    .dataframe tbody tr th:only-of-type {\n",
       "        vertical-align: middle;\n",
       "    }\n",
       "\n",
       "    .dataframe tbody tr th {\n",
       "        vertical-align: top;\n",
       "    }\n",
       "\n",
       "    .dataframe thead th {\n",
       "        text-align: right;\n",
       "    }\n",
       "</style>\n",
       "<table border=\"1\" class=\"dataframe\">\n",
       "  <thead>\n",
       "    <tr style=\"text-align: right;\">\n",
       "      <th></th>\n",
       "      <th>loss</th>\n",
       "      <th>accuracy</th>\n",
       "      <th>val_loss</th>\n",
       "      <th>val_accuracy</th>\n",
       "    </tr>\n",
       "  </thead>\n",
       "  <tbody>\n",
       "    <tr>\n",
       "      <th>0</th>\n",
       "      <td>1.361271</td>\n",
       "      <td>0.635267</td>\n",
       "      <td>1.085559</td>\n",
       "      <td>0.774194</td>\n",
       "    </tr>\n",
       "    <tr>\n",
       "      <th>1</th>\n",
       "      <td>1.011693</td>\n",
       "      <td>0.789113</td>\n",
       "      <td>1.034063</td>\n",
       "      <td>0.782991</td>\n",
       "    </tr>\n",
       "    <tr>\n",
       "      <th>2</th>\n",
       "      <td>0.926253</td>\n",
       "      <td>0.837027</td>\n",
       "      <td>1.003169</td>\n",
       "      <td>0.803519</td>\n",
       "    </tr>\n",
       "    <tr>\n",
       "      <th>3</th>\n",
       "      <td>0.867695</td>\n",
       "      <td>0.869296</td>\n",
       "      <td>0.981089</td>\n",
       "      <td>0.824047</td>\n",
       "    </tr>\n",
       "    <tr>\n",
       "      <th>4</th>\n",
       "      <td>0.827064</td>\n",
       "      <td>0.899609</td>\n",
       "      <td>0.998454</td>\n",
       "      <td>0.797654</td>\n",
       "    </tr>\n",
       "    <tr>\n",
       "      <th>5</th>\n",
       "      <td>0.793771</td>\n",
       "      <td>0.913624</td>\n",
       "      <td>0.976398</td>\n",
       "      <td>0.835777</td>\n",
       "    </tr>\n",
       "    <tr>\n",
       "      <th>6</th>\n",
       "      <td>0.764761</td>\n",
       "      <td>0.929922</td>\n",
       "      <td>0.976989</td>\n",
       "      <td>0.826979</td>\n",
       "    </tr>\n",
       "    <tr>\n",
       "      <th>7</th>\n",
       "      <td>0.743397</td>\n",
       "      <td>0.945241</td>\n",
       "      <td>0.985074</td>\n",
       "      <td>0.818182</td>\n",
       "    </tr>\n",
       "    <tr>\n",
       "      <th>8</th>\n",
       "      <td>0.724030</td>\n",
       "      <td>0.951760</td>\n",
       "      <td>0.980401</td>\n",
       "      <td>0.818182</td>\n",
       "    </tr>\n",
       "    <tr>\n",
       "      <th>9</th>\n",
       "      <td>0.710242</td>\n",
       "      <td>0.954368</td>\n",
       "      <td>0.983225</td>\n",
       "      <td>0.815249</td>\n",
       "    </tr>\n",
       "  </tbody>\n",
       "</table>\n",
       "</div>"
      ],
      "text/plain": [
       "       loss  accuracy  val_loss  val_accuracy\n",
       "0  1.361271  0.635267  1.085559      0.774194\n",
       "1  1.011693  0.789113  1.034063      0.782991\n",
       "2  0.926253  0.837027  1.003169      0.803519\n",
       "3  0.867695  0.869296  0.981089      0.824047\n",
       "4  0.827064  0.899609  0.998454      0.797654\n",
       "5  0.793771  0.913624  0.976398      0.835777\n",
       "6  0.764761  0.929922  0.976989      0.826979\n",
       "7  0.743397  0.945241  0.985074      0.818182\n",
       "8  0.724030  0.951760  0.980401      0.818182\n",
       "9  0.710242  0.954368  0.983225      0.815249"
      ]
     },
     "execution_count": 16,
     "metadata": {},
     "output_type": "execute_result"
    }
   ],
   "source": [
    "df_history = pd.DataFrame(history.history)\n",
    "df_history"
   ]
  },
  {
   "cell_type": "code",
   "execution_count": 57,
   "metadata": {},
   "outputs": [
    {
     "data": {
      "text/html": [
       "<div>\n",
       "<style scoped>\n",
       "    .dataframe tbody tr th:only-of-type {\n",
       "        vertical-align: middle;\n",
       "    }\n",
       "\n",
       "    .dataframe tbody tr th {\n",
       "        vertical-align: top;\n",
       "    }\n",
       "\n",
       "    .dataframe thead th {\n",
       "        text-align: right;\n",
       "    }\n",
       "</style>\n",
       "<table border=\"1\" class=\"dataframe\">\n",
       "  <thead>\n",
       "    <tr style=\"text-align: right;\">\n",
       "      <th></th>\n",
       "      <th>epoch</th>\n",
       "      <th>variable</th>\n",
       "      <th>value</th>\n",
       "    </tr>\n",
       "  </thead>\n",
       "  <tbody>\n",
       "    <tr>\n",
       "      <th>0</th>\n",
       "      <td>0</td>\n",
       "      <td>accuracy</td>\n",
       "      <td>0.635267</td>\n",
       "    </tr>\n",
       "    <tr>\n",
       "      <th>1</th>\n",
       "      <td>1</td>\n",
       "      <td>accuracy</td>\n",
       "      <td>0.789113</td>\n",
       "    </tr>\n",
       "    <tr>\n",
       "      <th>2</th>\n",
       "      <td>2</td>\n",
       "      <td>accuracy</td>\n",
       "      <td>0.837027</td>\n",
       "    </tr>\n",
       "    <tr>\n",
       "      <th>3</th>\n",
       "      <td>3</td>\n",
       "      <td>accuracy</td>\n",
       "      <td>0.869296</td>\n",
       "    </tr>\n",
       "    <tr>\n",
       "      <th>4</th>\n",
       "      <td>4</td>\n",
       "      <td>accuracy</td>\n",
       "      <td>0.899609</td>\n",
       "    </tr>\n",
       "    <tr>\n",
       "      <th>5</th>\n",
       "      <td>5</td>\n",
       "      <td>accuracy</td>\n",
       "      <td>0.913624</td>\n",
       "    </tr>\n",
       "    <tr>\n",
       "      <th>6</th>\n",
       "      <td>6</td>\n",
       "      <td>accuracy</td>\n",
       "      <td>0.929922</td>\n",
       "    </tr>\n",
       "    <tr>\n",
       "      <th>7</th>\n",
       "      <td>7</td>\n",
       "      <td>accuracy</td>\n",
       "      <td>0.945241</td>\n",
       "    </tr>\n",
       "    <tr>\n",
       "      <th>8</th>\n",
       "      <td>8</td>\n",
       "      <td>accuracy</td>\n",
       "      <td>0.951760</td>\n",
       "    </tr>\n",
       "    <tr>\n",
       "      <th>9</th>\n",
       "      <td>9</td>\n",
       "      <td>accuracy</td>\n",
       "      <td>0.954368</td>\n",
       "    </tr>\n",
       "    <tr>\n",
       "      <th>10</th>\n",
       "      <td>0</td>\n",
       "      <td>val_accuracy</td>\n",
       "      <td>0.774194</td>\n",
       "    </tr>\n",
       "    <tr>\n",
       "      <th>11</th>\n",
       "      <td>1</td>\n",
       "      <td>val_accuracy</td>\n",
       "      <td>0.782991</td>\n",
       "    </tr>\n",
       "    <tr>\n",
       "      <th>12</th>\n",
       "      <td>2</td>\n",
       "      <td>val_accuracy</td>\n",
       "      <td>0.803519</td>\n",
       "    </tr>\n",
       "    <tr>\n",
       "      <th>13</th>\n",
       "      <td>3</td>\n",
       "      <td>val_accuracy</td>\n",
       "      <td>0.824047</td>\n",
       "    </tr>\n",
       "    <tr>\n",
       "      <th>14</th>\n",
       "      <td>4</td>\n",
       "      <td>val_accuracy</td>\n",
       "      <td>0.797654</td>\n",
       "    </tr>\n",
       "    <tr>\n",
       "      <th>15</th>\n",
       "      <td>5</td>\n",
       "      <td>val_accuracy</td>\n",
       "      <td>0.835777</td>\n",
       "    </tr>\n",
       "    <tr>\n",
       "      <th>16</th>\n",
       "      <td>6</td>\n",
       "      <td>val_accuracy</td>\n",
       "      <td>0.826979</td>\n",
       "    </tr>\n",
       "    <tr>\n",
       "      <th>17</th>\n",
       "      <td>7</td>\n",
       "      <td>val_accuracy</td>\n",
       "      <td>0.818182</td>\n",
       "    </tr>\n",
       "    <tr>\n",
       "      <th>18</th>\n",
       "      <td>8</td>\n",
       "      <td>val_accuracy</td>\n",
       "      <td>0.818182</td>\n",
       "    </tr>\n",
       "    <tr>\n",
       "      <th>19</th>\n",
       "      <td>9</td>\n",
       "      <td>val_accuracy</td>\n",
       "      <td>0.815249</td>\n",
       "    </tr>\n",
       "  </tbody>\n",
       "</table>\n",
       "</div>"
      ],
      "text/plain": [
       "    epoch      variable     value\n",
       "0       0      accuracy  0.635267\n",
       "1       1      accuracy  0.789113\n",
       "2       2      accuracy  0.837027\n",
       "3       3      accuracy  0.869296\n",
       "4       4      accuracy  0.899609\n",
       "5       5      accuracy  0.913624\n",
       "6       6      accuracy  0.929922\n",
       "7       7      accuracy  0.945241\n",
       "8       8      accuracy  0.951760\n",
       "9       9      accuracy  0.954368\n",
       "10      0  val_accuracy  0.774194\n",
       "11      1  val_accuracy  0.782991\n",
       "12      2  val_accuracy  0.803519\n",
       "13      3  val_accuracy  0.824047\n",
       "14      4  val_accuracy  0.797654\n",
       "15      5  val_accuracy  0.835777\n",
       "16      6  val_accuracy  0.826979\n",
       "17      7  val_accuracy  0.818182\n",
       "18      8  val_accuracy  0.818182\n",
       "19      9  val_accuracy  0.815249"
      ]
     },
     "execution_count": 57,
     "metadata": {},
     "output_type": "execute_result"
    }
   ],
   "source": [
    "df_history.rename_axis('epoch').reset_index().melt(id_vars='epoch', value_vars=['accuracy', 'val_accuracy',]).head(20)"
   ]
  },
  {
   "cell_type": "code",
   "execution_count": 62,
   "metadata": {},
   "outputs": [
    {
     "data": {
      "text/plain": [
       "<AxesSubplot:xlabel='epoch', ylabel='%'>"
      ]
     },
     "execution_count": 62,
     "metadata": {},
     "output_type": "execute_result"
    },
    {
     "data": {
      "image/png": "[encoded data removed]",
      "text/plain": [
       "<Figure size 1152x432 with 2 Axes>"
      ]
     },
     "metadata": {
      "needs_background": "light"
     },
     "output_type": "display_data"
    }
   ],
   "source": [
    "loss_df = df_history.filter(regex='loss', axis=1).rename_axis('epoch').reset_index().melt(id_vars='epoch', var_name='sources', value_name='loss_val')\n",
    "acc_df = df_history.filter(regex='accuracy', axis=1).rename_axis('epoch').reset_index().melt(id_vars='epoch', var_name='sources', value_name='%')\n",
    "fig, axes = plt.subplots(1, 2, figsize=(16, 6))\n",
    "sns.lineplot(data=loss_df, x='epoch', y='loss_val', hue='sources', ax=axes[0])\n",
    "sns.lineplot(data=acc_df, x='epoch', y='%', hue='sources', ax=axes[1])"
   ]
  },
  {
   "cell_type": "markdown",
   "metadata": {},
   "source": [
    "Add droupout or regularization\n",
    "\n",
    "dropout doesn't make any change.\n",
    "\n",
    "l2 with alpha 0.01 makes train and val set closer."
   ]
  },
  {
   "cell_type": "code",
   "execution_count": 196,
   "metadata": {},
   "outputs": [],
   "source": [
    "checkpoint_cb = keras.callbacks.ModelCheckpoint(\n",
    "    'xception_v1_{epoch:02d}_{val_acc:.3f}.h5',\n",
    "    save_best_only=True,\n",
    "    monitor='val_accuracy',\n",
    "    mode='max'\n",
    ")"
   ]
  },
  {
   "cell_type": "code",
   "execution_count": 753,
   "metadata": {},
   "outputs": [
    {
     "name": "stdout",
     "output_type": "stream",
     "text": [
      "Epoch 1/10\n"
     ]
    },
    {
     "name": "stderr",
     "output_type": "stream",
     "text": [
      "2022-08-13 22:12:54.247675: I tensorflow/core/grappler/optimizers/custom_graph_optimizer_registry.cc:113] Plugin optimizer for device_type GPU is enabled.\n"
     ]
    },
    {
     "name": "stdout",
     "output_type": "stream",
     "text": [
      "96/96 [==============================] - ETA: 0s - loss: 1.4343 - accuracy: 0.6581"
     ]
    },
    {
     "name": "stderr",
     "output_type": "stream",
     "text": [
      "2022-08-13 22:13:09.594100: I tensorflow/core/grappler/optimizers/custom_graph_optimizer_registry.cc:113] Plugin optimizer for device_type GPU is enabled.\n"
     ]
    },
    {
     "name": "stdout",
     "output_type": "stream",
     "text": [
      "96/96 [==============================] - 21s 180ms/step - loss: 1.4343 - accuracy: 0.6581 - val_loss: 0.9529 - val_accuracy: 0.7595\n",
      "Epoch 2/10\n",
      "96/96 [==============================] - 13s 136ms/step - loss: 0.8437 - accuracy: 0.8005 - val_loss: 1.4023 - val_accuracy: 0.7566\n",
      "Epoch 3/10\n",
      "96/96 [==============================] - 13s 135ms/step - loss: 0.7104 - accuracy: 0.8432 - val_loss: 1.2321 - val_accuracy: 0.7419\n",
      "Epoch 4/10\n",
      "96/96 [==============================] - 13s 133ms/step - loss: 0.5801 - accuracy: 0.8924 - val_loss: 1.1142 - val_accuracy: 0.8035\n",
      "Epoch 5/10\n",
      "96/96 [==============================] - 13s 135ms/step - loss: 0.5611 - accuracy: 0.9016 - val_loss: 1.1025 - val_accuracy: 0.7859\n",
      "Epoch 6/10\n",
      "96/96 [==============================] - 13s 136ms/step - loss: 0.6155 - accuracy: 0.8980 - val_loss: 1.2298 - val_accuracy: 0.7595\n",
      "Epoch 7/10\n",
      "96/96 [==============================] - 13s 136ms/step - loss: 0.5652 - accuracy: 0.9188 - val_loss: 1.2869 - val_accuracy: 0.7595\n",
      "Epoch 8/10\n",
      "96/96 [==============================] - 13s 136ms/step - loss: 0.5881 - accuracy: 0.9107 - val_loss: 1.1529 - val_accuracy: 0.7918\n",
      "Epoch 9/10\n",
      "96/96 [==============================] - 13s 135ms/step - loss: 0.5995 - accuracy: 0.9169 - val_loss: 1.4450 - val_accuracy: 0.7566\n",
      "Epoch 10/10\n",
      "96/96 [==============================] - 13s 135ms/step - loss: 0.7040 - accuracy: 0.9055 - val_loss: 1.4583 - val_accuracy: 0.7595\n"
     ]
    }
   ],
   "source": [
    "model = make_model(Sequential([\n",
    "    layers.Dense(10, activation='linear', kernel_regularizer=keras.regularizers.l2(0.001)),\n",
    "]))\n",
    "\n",
    "history = model.fit(train_ds.map(lambda x, y: (xception.preprocess_input(x), y)),\n",
    "    epochs=10,\n",
    "    validation_data=val_ds\n",
    ")"
   ]
  },
  {
   "cell_type": "code",
   "execution_count": 754,
   "metadata": {},
   "outputs": [],
   "source": [
    "df_history = pd.DataFrame(history.history)"
   ]
  },
  {
   "cell_type": "code",
   "execution_count": 755,
   "metadata": {},
   "outputs": [
    {
     "data": {
      "text/plain": [
       "<AxesSubplot:xlabel='epoch', ylabel='%'>"
      ]
     },
     "execution_count": 755,
     "metadata": {},
     "output_type": "execute_result"
    },
    {
     "data": {
      "image/png": "[encoded data removed]",
      "text/plain": [
       "<Figure size 432x288 with 1 Axes>"
      ]
     },
     "metadata": {
      "needs_background": "light"
     },
     "output_type": "display_data"
    }
   ],
   "source": [
    "dfm = pd.melt(df_history.reset_index().rename(columns={'index': 'epoch'}), id_vars='epoch', value_vars=['accuracy', 'val_accuracy'], var_name='accuracy', value_name='%')\n",
    "sns.lineplot(data=dfm, x='epoch', y='%', hue='accuracy')"
   ]
  },
  {
   "cell_type": "markdown",
   "metadata": {},
   "source": [
    "Data Augmentation\n",
    "\n",
    "in MAC, these transformation has to do in CPU"
   ]
  },
  {
   "cell_type": "code",
   "execution_count": 15,
   "metadata": {},
   "outputs": [],
   "source": [
    "with tf.device('/cpu:0'):\n",
    "    data_augmentation = keras.Sequential([\n",
    "        keras.layers.RandomRotation(40),\n",
    "        keras.layers.RandomTranslation(0, 0.2),\n",
    "        keras.layers.RandomTranslation(0.2, 0),\n",
    "        keras.layers.RandomZoom(0.2, 0.2),\n",
    "        keras.layers.RandomFlip(mode='horizontal'),\n",
    "        keras.layers.Lambda(xception.preprocess_input)\n",
    "    ])"
   ]
  },
  {
   "cell_type": "code",
   "execution_count": 757,
   "metadata": {},
   "outputs": [
    {
     "name": "stdout",
     "output_type": "stream",
     "text": [
      "Epoch 1/10\n"
     ]
    },
    {
     "name": "stderr",
     "output_type": "stream",
     "text": [
      "2022-08-13 22:18:16.492933: I tensorflow/core/grappler/optimizers/custom_graph_optimizer_registry.cc:113] Plugin optimizer for device_type GPU is enabled.\n"
     ]
    },
    {
     "name": "stdout",
     "output_type": "stream",
     "text": [
      "96/96 [==============================] - ETA: 0s - loss: 1.1360 - accuracy: 0.6033"
     ]
    },
    {
     "name": "stderr",
     "output_type": "stream",
     "text": [
      "2022-08-13 22:18:32.095447: I tensorflow/core/grappler/optimizers/custom_graph_optimizer_registry.cc:113] Plugin optimizer for device_type GPU is enabled.\n"
     ]
    },
    {
     "name": "stdout",
     "output_type": "stream",
     "text": [
      "96/96 [==============================] - 23s 186ms/step - loss: 1.1360 - accuracy: 0.6033 - val_loss: 0.7429 - val_accuracy: 0.7507\n",
      "Epoch 2/10\n",
      "96/96 [==============================] - 13s 137ms/step - loss: 0.6747 - accuracy: 0.7656 - val_loss: 0.6511 - val_accuracy: 0.7771\n",
      "Epoch 3/10\n",
      "96/96 [==============================] - 13s 136ms/step - loss: 0.5583 - accuracy: 0.8057 - val_loss: 0.6154 - val_accuracy: 0.7918\n",
      "Epoch 4/10\n",
      "96/96 [==============================] - 13s 137ms/step - loss: 0.4815 - accuracy: 0.8380 - val_loss: 0.5920 - val_accuracy: 0.8094\n",
      "Epoch 5/10\n",
      "96/96 [==============================] - 13s 137ms/step - loss: 0.4245 - accuracy: 0.8537 - val_loss: 0.5760 - val_accuracy: 0.8123\n",
      "Epoch 6/10\n",
      "96/96 [==============================] - 13s 135ms/step - loss: 0.3732 - accuracy: 0.8820 - val_loss: 0.5742 - val_accuracy: 0.8123\n",
      "Epoch 7/10\n",
      "96/96 [==============================] - 13s 135ms/step - loss: 0.3375 - accuracy: 0.8999 - val_loss: 0.5626 - val_accuracy: 0.8152\n",
      "Epoch 8/10\n",
      "96/96 [==============================] - 13s 137ms/step - loss: 0.3141 - accuracy: 0.9078 - val_loss: 0.5566 - val_accuracy: 0.8240\n",
      "Epoch 9/10\n",
      "96/96 [==============================] - 13s 135ms/step - loss: 0.2874 - accuracy: 0.9110 - val_loss: 0.5624 - val_accuracy: 0.8211\n",
      "Epoch 10/10\n",
      "96/96 [==============================] - 13s 135ms/step - loss: 0.2668 - accuracy: 0.9234 - val_loss: 0.5556 - val_accuracy: 0.8182\n"
     ]
    }
   ],
   "source": [
    "post_layers = Sequential([\n",
    "    layers.Dropout(rate=0.2),\n",
    "    layers.Dense(10, activation='linear'),\n",
    "])\n",
    "model = make_model(post_layers, learning_rate=0.001)\n",
    "\n",
    "history = model.fit(train_ds.map(lambda x, y: (data_augmentation(x), y)),\n",
    "    epochs=10,\n",
    "    validation_data=val_ds\n",
    ")"
   ]
  },
  {
   "cell_type": "code",
   "execution_count": 758,
   "metadata": {},
   "outputs": [
    {
     "data": {
      "text/plain": [
       "<AxesSubplot:xlabel='epoch', ylabel='%'>"
      ]
     },
     "execution_count": 758,
     "metadata": {},
     "output_type": "execute_result"
    },
    {
     "data": {
      "image/png": "[encoded data removed]",
      "text/plain": [
       "<Figure size 432x288 with 1 Axes>"
      ]
     },
     "metadata": {
      "needs_background": "light"
     },
     "output_type": "display_data"
    }
   ],
   "source": [
    "df_history = pd.DataFrame(history.history)\n",
    "dfm = pd.melt(df_history.reset_index().rename(columns={'index': 'epoch'}), id_vars='epoch', value_vars=['accuracy', 'val_accuracy'], var_name='accuracy', value_name='%')\n",
    "sns.lineplot(data=dfm, x='epoch', y='%', hue='accuracy')"
   ]
  },
  {
   "cell_type": "markdown",
   "metadata": {},
   "source": [
    "## Predict on test set"
   ]
  },
  {
   "cell_type": "code",
   "execution_count": 790,
   "metadata": {},
   "outputs": [
    {
     "name": "stdout",
     "output_type": "stream",
     "text": [
      "12/12 [==============================] - 2s 139ms/step\n"
     ]
    }
   ],
   "source": [
    "y_hat = model.predict(test_ds)"
   ]
  },
  {
   "cell_type": "code",
   "execution_count": 791,
   "metadata": {},
   "outputs": [],
   "source": [
    "test_label = np.concatenate([y for x, y in test_ds], axis=0)"
   ]
  },
  {
   "cell_type": "code",
   "execution_count": 849,
   "metadata": {},
   "outputs": [
    {
     "name": "stdout",
     "output_type": "stream",
     "text": [
      "12/12 [==============================] - 6s 408ms/step - loss: 0.8520 - accuracy: 0.7957\n"
     ]
    },
    {
     "data": {
      "text/plain": [
       "[0.8520011305809021, 0.7956989407539368]"
      ]
     },
     "execution_count": 849,
     "metadata": {},
     "output_type": "execute_result"
    }
   ],
   "source": [
    "model.evaluate(test_ds)"
   ]
  },
  {
   "cell_type": "markdown",
   "metadata": {},
   "source": [
    "OK, consist with validation set."
   ]
  },
  {
   "cell_type": "markdown",
   "metadata": {},
   "source": [
    "## Further fine tuning\n",
    "retrain top k layers of base model. This should only apply when we've found some parameters to converge our previous model."
   ]
  },
  {
   "cell_type": "code",
   "execution_count": 58,
   "metadata": {},
   "outputs": [
    {
     "name": "stdout",
     "output_type": "stream",
     "text": [
      "Epoch 1/10\n"
     ]
    },
    {
     "name": "stderr",
     "output_type": "stream",
     "text": [
      "2022-08-14 10:11:03.755036: I tensorflow/core/grappler/optimizers/custom_graph_optimizer_registry.cc:113] Plugin optimizer for device_type GPU is enabled.\n"
     ]
    },
    {
     "name": "stdout",
     "output_type": "stream",
     "text": [
      "96/96 [==============================] - ETA: 0s - loss: 1.4080 - accuracy: 0.6151"
     ]
    },
    {
     "name": "stderr",
     "output_type": "stream",
     "text": [
      "2022-08-14 10:11:16.099087: I tensorflow/core/grappler/optimizers/custom_graph_optimizer_registry.cc:113] Plugin optimizer for device_type GPU is enabled.\n"
     ]
    },
    {
     "name": "stdout",
     "output_type": "stream",
     "text": [
      "96/96 [==============================] - 16s 141ms/step - loss: 1.4080 - accuracy: 0.6151 - val_loss: 1.0990 - val_accuracy: 0.7683\n",
      "Epoch 2/10\n",
      "96/96 [==============================] - 13s 136ms/step - loss: 1.0536 - accuracy: 0.7744 - val_loss: 1.0350 - val_accuracy: 0.7977\n",
      "Epoch 3/10\n",
      "96/96 [==============================] - 12s 129ms/step - loss: 0.9718 - accuracy: 0.8054 - val_loss: 1.0024 - val_accuracy: 0.8006\n",
      "Epoch 4/10\n",
      "96/96 [==============================] - 13s 130ms/step - loss: 0.9157 - accuracy: 0.8452 - val_loss: 0.9921 - val_accuracy: 0.7977\n",
      "Epoch 5/10\n",
      "96/96 [==============================] - 12s 130ms/step - loss: 0.8720 - accuracy: 0.8699 - val_loss: 0.9825 - val_accuracy: 0.8123\n",
      "Epoch 6/10\n",
      "96/96 [==============================] - 13s 130ms/step - loss: 0.8383 - accuracy: 0.8853 - val_loss: 0.9777 - val_accuracy: 0.8299\n",
      "Epoch 7/10\n",
      "96/96 [==============================] - 13s 130ms/step - loss: 0.8124 - accuracy: 0.9051 - val_loss: 0.9674 - val_accuracy: 0.8299\n",
      "Epoch 8/10\n",
      "96/96 [==============================] - 12s 129ms/step - loss: 0.7934 - accuracy: 0.9153 - val_loss: 0.9657 - val_accuracy: 0.8299\n",
      "Epoch 9/10\n",
      "96/96 [==============================] - 13s 130ms/step - loss: 0.7748 - accuracy: 0.9270 - val_loss: 0.9594 - val_accuracy: 0.8328\n",
      "Epoch 10/10\n",
      "96/96 [==============================] - 13s 130ms/step - loss: 0.7637 - accuracy: 0.9270 - val_loss: 0.9693 - val_accuracy: 0.8152\n"
     ]
    }
   ],
   "source": [
    "post_layers = Sequential([\n",
    "    layers.Dropout(rate=0.2),\n",
    "    layers.Dense(10, activation='linear'),\n",
    "])\n",
    "model = make_model(post_layers, learning_rate=0.001)\n",
    "\n",
    "history = model.fit(train_ds.map(lambda x, y: (data_augmentation(x), y)),\n",
    "    epochs=10,\n",
    "    validation_data=val_ds\n",
    ")"
   ]
  },
  {
   "cell_type": "code",
   "execution_count": 59,
   "metadata": {},
   "outputs": [
    {
     "data": {
      "text/plain": [
       "<AxesSubplot:xlabel='epoch', ylabel='%'>"
      ]
     },
     "execution_count": 59,
     "metadata": {},
     "output_type": "execute_result"
    },
    {
     "data": {
      "image/png": "[encoded data removed]",
      "text/plain": [
       "<Figure size 432x288 with 1 Axes>"
      ]
     },
     "metadata": {
      "needs_background": "light"
     },
     "output_type": "display_data"
    }
   ],
   "source": [
    "df_history = pd.DataFrame(history.history)\n",
    "dfm = pd.melt(df_history.reset_index().rename(columns={'index': 'epoch'}), id_vars='epoch', value_vars=['accuracy', 'val_accuracy'], var_name='accuracy', value_name='%')\n",
    "sns.lineplot(data=dfm, x='epoch', y='%', hue='accuracy')"
   ]
  },
  {
   "cell_type": "markdown",
   "metadata": {},
   "source": [
    "base model has 132 layers, I fixed the bottom 100, only train the top 32 layers."
   ]
  },
  {
   "cell_type": "code",
   "execution_count": 60,
   "metadata": {},
   "outputs": [],
   "source": [
    "model.layers[0].base_model.trainable = True\n",
    "for layer in model.layers[0].base_model.layers[:100]:\n",
    "    layer.trainable = False\n",
    "\n",
    "model.compile(\n",
    "    loss=keras.losses.CategoricalCrossentropy(from_logits=True, label_smoothing=0.1),\n",
    "    optimizer=keras.optimizers.Adam(learning_rate=0.001),\n",
    "    metrics=['accuracy']\n",
    ")"
   ]
  },
  {
   "cell_type": "code",
   "execution_count": 61,
   "metadata": {},
   "outputs": [
    {
     "name": "stdout",
     "output_type": "stream",
     "text": [
      "Epoch 10/20\n"
     ]
    },
    {
     "name": "stderr",
     "output_type": "stream",
     "text": [
      "2022-08-14 10:14:00.505441: I tensorflow/core/grappler/optimizers/custom_graph_optimizer_registry.cc:113] Plugin optimizer for device_type GPU is enabled.\n"
     ]
    },
    {
     "name": "stdout",
     "output_type": "stream",
     "text": [
      "96/96 [==============================] - ETA: 0s - loss: 1.4605 - accuracy: 0.6017"
     ]
    },
    {
     "name": "stderr",
     "output_type": "stream",
     "text": [
      "2022-08-14 10:14:17.900226: I tensorflow/core/grappler/optimizers/custom_graph_optimizer_registry.cc:113] Plugin optimizer for device_type GPU is enabled.\n"
     ]
    },
    {
     "name": "stdout",
     "output_type": "stream",
     "text": [
      "96/96 [==============================] - 21s 193ms/step - loss: 1.4605 - accuracy: 0.6017 - val_loss: 0.9030 - val_accuracy: 0.8270\n",
      "Epoch 11/20\n",
      "96/96 [==============================] - 18s 184ms/step - loss: 0.8365 - accuracy: 0.8784 - val_loss: 0.8104 - val_accuracy: 0.8827\n",
      "Epoch 12/20\n",
      "96/96 [==============================] - 18s 185ms/step - loss: 0.6722 - accuracy: 0.9456 - val_loss: 0.8233 - val_accuracy: 0.8680\n",
      "Epoch 13/20\n",
      "96/96 [==============================] - 18s 184ms/step - loss: 0.5832 - accuracy: 0.9785 - val_loss: 0.7933 - val_accuracy: 0.8827\n",
      "Epoch 14/20\n",
      "96/96 [==============================] - 17s 180ms/step - loss: 0.5690 - accuracy: 0.9821 - val_loss: 0.8124 - val_accuracy: 0.8651\n",
      "Epoch 15/20\n",
      "96/96 [==============================] - 17s 181ms/step - loss: 0.5722 - accuracy: 0.9814 - val_loss: 0.8241 - val_accuracy: 0.8710\n",
      "Epoch 16/20\n",
      "96/96 [==============================] - 17s 180ms/step - loss: 0.5410 - accuracy: 0.9932 - val_loss: 0.7472 - val_accuracy: 0.9179\n",
      "Epoch 17/20\n",
      "96/96 [==============================] - 17s 179ms/step - loss: 0.5212 - accuracy: 0.9961 - val_loss: 0.7798 - val_accuracy: 0.8768\n",
      "Epoch 18/20\n",
      "96/96 [==============================] - 18s 183ms/step - loss: 0.5327 - accuracy: 0.9925 - val_loss: 0.7637 - val_accuracy: 0.9003\n",
      "Epoch 19/20\n",
      "96/96 [==============================] - 18s 183ms/step - loss: 0.5309 - accuracy: 0.9932 - val_loss: 0.7695 - val_accuracy: 0.8944\n",
      "Epoch 20/20\n",
      "96/96 [==============================] - 18s 185ms/step - loss: 0.5172 - accuracy: 0.9977 - val_loss: 0.7467 - val_accuracy: 0.9120\n"
     ]
    }
   ],
   "source": [
    "fine_tune_epochs=10\n",
    "total_epochs = 20\n",
    "history_fine = model.fit(train_ds.map(lambda x, y: (data_augmentation(x), y)),\n",
    "    epochs=20,\n",
    "    initial_epoch=history.epoch[-1], # should +1 here, or it will run 11 times like the log.\n",
    "    validation_data=val_ds\n",
    ")"
   ]
  },
  {
   "cell_type": "code",
   "execution_count": 70,
   "metadata": {},
   "outputs": [
    {
     "data": {
      "text/html": [
       "<div>\n",
       "<style scoped>\n",
       "    .dataframe tbody tr th:only-of-type {\n",
       "        vertical-align: middle;\n",
       "    }\n",
       "\n",
       "    .dataframe tbody tr th {\n",
       "        vertical-align: top;\n",
       "    }\n",
       "\n",
       "    .dataframe thead th {\n",
       "        text-align: right;\n",
       "    }\n",
       "</style>\n",
       "<table border=\"1\" class=\"dataframe\">\n",
       "  <thead>\n",
       "    <tr style=\"text-align: right;\">\n",
       "      <th></th>\n",
       "      <th>loss</th>\n",
       "      <th>accuracy</th>\n",
       "      <th>val_loss</th>\n",
       "      <th>val_accuracy</th>\n",
       "    </tr>\n",
       "  </thead>\n",
       "  <tbody>\n",
       "    <tr>\n",
       "      <th>0</th>\n",
       "      <td>1.408042</td>\n",
       "      <td>0.615059</td>\n",
       "      <td>1.099039</td>\n",
       "      <td>0.768328</td>\n",
       "    </tr>\n",
       "    <tr>\n",
       "      <th>1</th>\n",
       "      <td>1.053601</td>\n",
       "      <td>0.774446</td>\n",
       "      <td>1.034961</td>\n",
       "      <td>0.797654</td>\n",
       "    </tr>\n",
       "    <tr>\n",
       "      <th>2</th>\n",
       "      <td>0.971824</td>\n",
       "      <td>0.805411</td>\n",
       "      <td>1.002380</td>\n",
       "      <td>0.800587</td>\n",
       "    </tr>\n",
       "    <tr>\n",
       "      <th>3</th>\n",
       "      <td>0.915683</td>\n",
       "      <td>0.845176</td>\n",
       "      <td>0.992122</td>\n",
       "      <td>0.797654</td>\n",
       "    </tr>\n",
       "    <tr>\n",
       "      <th>4</th>\n",
       "      <td>0.872039</td>\n",
       "      <td>0.869948</td>\n",
       "      <td>0.982457</td>\n",
       "      <td>0.812317</td>\n",
       "    </tr>\n",
       "  </tbody>\n",
       "</table>\n",
       "</div>"
      ],
      "text/plain": [
       "       loss  accuracy  val_loss  val_accuracy\n",
       "0  1.408042  0.615059  1.099039      0.768328\n",
       "1  1.053601  0.774446  1.034961      0.797654\n",
       "2  0.971824  0.805411  1.002380      0.800587\n",
       "3  0.915683  0.845176  0.992122      0.797654\n",
       "4  0.872039  0.869948  0.982457      0.812317"
      ]
     },
     "execution_count": 70,
     "metadata": {},
     "output_type": "execute_result"
    }
   ],
   "source": [
    "df_history_fine = pd.concat([df_history, pd.DataFrame(history_fine.history)], ignore_index=True)\n",
    "df_history_fine.head()"
   ]
  },
  {
   "cell_type": "code",
   "execution_count": 87,
   "metadata": {},
   "outputs": [
    {
     "data": {
      "image/png": "[encoded data removed]",
      "text/plain": [
       "<Figure size 1296x432 with 2 Axes>"
      ]
     },
     "metadata": {
      "needs_background": "light"
     },
     "output_type": "display_data"
    }
   ],
   "source": [
    "fig, axes = plt.subplots(1, 2, figsize=(18, 6))\n",
    "df_history_fine.plot(y=['accuracy', 'val_accuracy'], ylabel='%', xlabel='epoch', ax=axes[0])\n",
    "axes[0].legend(['train', 'val'])\n",
    "\n",
    "df_history_fine.plot(y=['loss', 'val_loss'], ylabel='loss', xlabel='epoch', ax=axes[1])\n",
    "axes[1].legend(['train', 'val'])\n",
    "\n",
    "for ax in axes:\n",
    "    ax.axvline(10, color='grey', alpha=0.5)"
   ]
  },
  {
   "cell_type": "markdown",
   "metadata": {},
   "source": [
    "about 92% accuracy on test set."
   ]
  },
  {
   "cell_type": "code",
   "execution_count": 65,
   "metadata": {},
   "outputs": [
    {
     "name": "stdout",
     "output_type": "stream",
     "text": [
      "12/12 [==============================] - 2s 133ms/step - loss: 0.7285 - accuracy: 0.9194\n"
     ]
    },
    {
     "data": {
      "text/plain": [
       "[0.7284983396530151, 0.9193548560142517]"
      ]
     },
     "execution_count": 65,
     "metadata": {},
     "output_type": "execute_result"
    }
   ],
   "source": [
    "model.evaluate(test_ds)"
   ]
  },
  {
   "cell_type": "markdown",
   "metadata": {},
   "source": [
    "checking the confusion matrix"
   ]
  },
  {
   "cell_type": "code",
   "execution_count": 114,
   "metadata": {},
   "outputs": [],
   "source": [
    "y = np.array([])\n",
    "for data, y_encoded in test_ds:\n",
    "    y = np.hstack((y, tf.argmax(y_encoded, axis=1)))"
   ]
  },
  {
   "cell_type": "code",
   "execution_count": 118,
   "metadata": {},
   "outputs": [
    {
     "name": "stdout",
     "output_type": "stream",
     "text": [
      "12/12 [==============================] - 2s 136ms/step\n"
     ]
    }
   ],
   "source": [
    "y_hat = tf.argmax(model.predict(test_ds), axis=1)"
   ]
  },
  {
   "cell_type": "code",
   "execution_count": 149,
   "metadata": {},
   "outputs": [
    {
     "data": {
      "image/png": "[encoded data removed]",
      "text/plain": [
       "<Figure size 864x576 with 2 Axes>"
      ]
     },
     "metadata": {
      "needs_background": "light"
     },
     "output_type": "display_data"
    }
   ],
   "source": [
    "plt.figure(figsize=(12, 8))\n",
    "cm = tf.math.confusion_matrix(y, y_hat)\n",
    "ax = sns.heatmap(cm, annot=True)\n",
    "ax.set_xlabel('predicted')\n",
    "ax.set_ylabel('actual')\n",
    "ax.set_xticklabels(classes, rotation=30)\n",
    "ax.set_yticklabels(classes, rotation=0);"
   ]
  }
 ],
 "metadata": {
  "kernelspec": {
   "display_name": "Python 3.8.13 ('ml-zoomcamp-5e_EmHlr-py3.8')",
   "language": "python",
   "name": "python3"
  },
  "language_info": {
   "codemirror_mode": {
    "name": "ipython",
    "version": 3
   },
   "file_extension": ".py",
   "mimetype": "text/x-python",
   "name": "python",
   "nbconvert_exporter": "python",
   "pygments_lexer": "ipython3",
   "version": "3.8.13"
  },
  "orig_nbformat": 4,
  "vscode": {
   "interpreter": {
    "hash": "e5a281cab543d4021a2d007046e124f493906f0f8d724e455dbb48b319efb3df"
   }
  }
 },
 "nbformat": 4,
 "nbformat_minor": 2
}
