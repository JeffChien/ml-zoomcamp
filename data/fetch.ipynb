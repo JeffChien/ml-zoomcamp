{
 "cells": [
  {
   "cell_type": "code",
   "execution_count": 4,
   "metadata": {},
   "outputs": [],
   "source": [
    "import s3fs\n",
    "import pyarrow.parquet as pq\n",
    "import pyarrow.csv as pv\n",
    "import pyarrow as pa\n",
    "import pandas as pd\n",
    "import os"
   ]
  },
  {
   "cell_type": "code",
   "execution_count": 10,
   "metadata": {},
   "outputs": [],
   "source": [
    "def upload(filename, namespace):\n",
    "    df = pd.read_csv(filename)\n",
    "    df.to_parquet(f's3://datasets/kaggle/{namespace}/data.parquet', storage_options={\n",
    "        'profile': 'local',\n",
    "        'client_kwargs': {\n",
    "            'endpoint_url': 'http://192.168.46.220:9000'\n",
    "        }\n",
    "    })"
   ]
  },
  {
   "cell_type": "markdown",
   "metadata": {},
   "source": [
    "## CH2"
   ]
  },
  {
   "cell_type": "code",
   "execution_count": 3,
   "metadata": {},
   "outputs": [
    {
     "name": "stdout",
     "output_type": "stream",
     "text": [
      "Downloading cardataset.zip to /Users/jchien/workspace/courses/ml-zoomcamp/data\n",
      "  0%|                                                | 0.00/103k [00:00<?, ?B/s]\n",
      "100%|████████████████████████████████████████| 103k/103k [00:00<00:00, 13.7MB/s]\n"
     ]
    }
   ],
   "source": [
    "## CooperUnion/cardataset\n",
    "## ch2 car prices\n",
    "\n",
    "!kaggle datasets download --unzip CooperUnion/cardataset"
   ]
  },
  {
   "cell_type": "code",
   "execution_count": 14,
   "metadata": {},
   "outputs": [],
   "source": [
    "if os.path.exists('./data.csv'):\n",
    "    df = pd.read_csv('./data.csv')\n",
    "    df.to_parquet('s3://datasets/kaggle/CooperUnion/cardataset/data.parquet', storage_options={\n",
    "        'profile': 'local',\n",
    "        'client_kwargs': {\n",
    "            'endpoint_url': 'http://192.168.46.220:9000'\n",
    "        }\n",
    "    })\n",
    "    !rm data.csv"
   ]
  },
  {
   "cell_type": "markdown",
   "metadata": {},
   "source": [
    "### homework"
   ]
  },
  {
   "cell_type": "code",
   "execution_count": 25,
   "metadata": {},
   "outputs": [
    {
     "name": "stdout",
     "output_type": "stream",
     "text": [
      "AB_NYC_2019.csv.zip: Skipping, found more recently modified local copy (use --force to force download)\n"
     ]
    }
   ],
   "source": [
    "## dgomonov/new-york-city-airbnb-open-data\n",
    "## ch2 homework\n",
    "\n",
    "!kaggle datasets download -f 'AB_NYC_2019.csv' 'dgomonov/new-york-city-airbnb-open-data'"
   ]
  },
  {
   "cell_type": "code",
   "execution_count": 26,
   "metadata": {},
   "outputs": [
    {
     "name": "stdout",
     "output_type": "stream",
     "text": [
      "Archive:  AB_NYC_2019.csv.zip\n",
      "  inflating: AB_NYC_2019.csv         \n"
     ]
    }
   ],
   "source": [
    "!unzip AB_NYC_2019.csv"
   ]
  },
  {
   "cell_type": "code",
   "execution_count": 27,
   "metadata": {},
   "outputs": [],
   "source": [
    "if os.path.exists('AB_NYC_2019.csv'):\n",
    "    df = pd.read_csv('AB_NYC_2019.csv')\n",
    "    df.to_parquet('s3://datasets/kaggle/dgomonov/new-york-city-airbnb-open-data/data.parquet', storage_options={\n",
    "        'profile': 'local',\n",
    "        'client_kwargs': {\n",
    "            'endpoint_url': 'http://192.168.46.220:9000'\n",
    "        }\n",
    "    })\n",
    "    !rm AB_NYC_2019.csv"
   ]
  },
  {
   "cell_type": "markdown",
   "metadata": {},
   "source": [
    "## Ch3"
   ]
  },
  {
   "cell_type": "code",
   "execution_count": 2,
   "metadata": {},
   "outputs": [
    {
     "name": "stdout",
     "output_type": "stream",
     "text": [
      "Downloading telco-customer-churn.zip to /Users/jchien/workspace/courses/ml-zoomcamp/data\n",
      "  0%|                                                | 0.00/172k [00:00<?, ?B/s]\n",
      "100%|████████████████████████████████████████| 172k/172k [00:00<00:00, 7.47MB/s]\n"
     ]
    }
   ],
   "source": [
    "# blastchar/telco-customer-churn\n",
    "!kaggle datasets download 'blastchar/telco-customer-churn'"
   ]
  },
  {
   "cell_type": "code",
   "execution_count": 3,
   "metadata": {},
   "outputs": [
    {
     "name": "stdout",
     "output_type": "stream",
     "text": [
      "Archive:  telco-customer-churn.zip\n",
      "  inflating: WA_Fn-UseC_-Telco-Customer-Churn.csv  \n"
     ]
    }
   ],
   "source": [
    "!unzip telco-customer-churn.zip"
   ]
  },
  {
   "cell_type": "code",
   "execution_count": 7,
   "metadata": {},
   "outputs": [],
   "source": [
    "filename = 'WA_Fn-UseC_-Telco-Customer-Churn.csv'\n",
    "namespace = 'blastchar/telco-customer-churn'"
   ]
  },
  {
   "cell_type": "code",
   "execution_count": 8,
   "metadata": {},
   "outputs": [],
   "source": [
    "upload(filename, namespace)"
   ]
  },
  {
   "cell_type": "code",
   "execution_count": 9,
   "metadata": {},
   "outputs": [],
   "source": [
    "!rm {filename}"
   ]
  }
 ],
 "metadata": {
  "kernelspec": {
   "display_name": "Python 3.8.13 ('ml-zoomcamp-5e_EmHlr-py3.8')",
   "language": "python",
   "name": "python3"
  },
  "language_info": {
   "codemirror_mode": {
    "name": "ipython",
    "version": 3
   },
   "file_extension": ".py",
   "mimetype": "text/x-python",
   "name": "python",
   "nbconvert_exporter": "python",
   "pygments_lexer": "ipython3",
   "version": "3.8.13"
  },
  "orig_nbformat": 4,
  "vscode": {
   "interpreter": {
    "hash": "e5a281cab543d4021a2d007046e124f493906f0f8d724e455dbb48b319efb3df"
   }
  }
 },
 "nbformat": 4,
 "nbformat_minor": 2
}
