{
 "cells": [
  {
   "cell_type": "markdown",
   "metadata": {},
   "source": [
    "## Preparing Images\n",
    "\n",
    "k3d and kind are similar, they can't use local docker image, k3d need image in public or private registry server while kind need to use `load` command to import the image to it's internal CRI format."
   ]
  },
  {
   "cell_type": "markdown",
   "metadata": {},
   "source": [
    "### K3d\n",
    "\n",
    "there are 2 options, one is use private registry k3d provides, the other one is use the command `k3d image import <image>`\n",
    "\n",
    "host a private registry\n",
    "```\n",
    "k3d registry create registry.localhost --port 5000\n",
    "```\n",
    "\n",
    "**PS**, port 5000 may be occupied by airplay service in MacOS, can disable the service in `system preference / share / airplay`\n",
    "\n",
    "\n",
    "when creating cluster, need to specify the extra parameter.\n",
    "```\n",
    "k3d cluster create --registry-use k3d-registry.localhost:5000\n",
    "```\n",
    "\n",
    "to upload the image\n",
    "```\n",
    "docker tag <image>:<tag> k3d-registry.localhost:5000/<image>:<tag>\n",
    "docker push k3d-registry.localhost:5000/<image>:<tag>\n",
    "```\n"
   ]
  },
  {
   "cell_type": "code",
   "execution_count": 7,
   "metadata": {},
   "outputs": [],
   "source": [
    "!docker tag ml-zoomcamp_inference-gateway:latest k3d-registry.localhost:5000/ml-zoomcamp_inference-gateway:latest\n",
    "!docker tag ml-zoomcamp_inference-ch2:latest k3d-registry.localhost:5000/ml-zoomcamp_inference-ch2:latest"
   ]
  },
  {
   "cell_type": "markdown",
   "metadata": {},
   "source": [
    "### Kind\n",
    "\n",
    "```\n",
    "kind load docker-image ml-zoomcamp_inference-ch2:latest\n",
    "kind load docker-image ml-zoomcamp_inference-gateway\n",
    "```"
   ]
  },
  {
   "cell_type": "markdown",
   "metadata": {},
   "source": [
    "List CRI images available for k8s."
   ]
  },
  {
   "cell_type": "code",
   "execution_count": 3,
   "metadata": {},
   "outputs": [
    {
     "name": "stdout",
     "output_type": "stream",
     "text": [
      "IMAGE                                             TAG                  IMAGE ID            SIZE\n",
      "docker.io/kindest/kindnetd                        v20220510-4929dd75   31d1852b05abc       43.8MB\n",
      "docker.io/kindest/local-path-helper               v20220512-507ff70b   9bc13867d19ca       2.75MB\n",
      "docker.io/kindest/local-path-provisioner          v0.0.22-kind.0       7902f9a1c54fa       15.6MB\n",
      "docker.io/library/ml-zoomcamp_inference-ch2       latest               1d5b92ee3172b       1GB\n",
      "docker.io/library/ml-zoomcamp_inference-gateway   latest               1ff49d080c415       2.32GB\n",
      "k8s.gcr.io/coredns/coredns                        v1.8.6               edaa71f2aee88       12.3MB\n",
      "k8s.gcr.io/etcd                                   3.5.3-0              a9a710bb96df0       81.1MB\n",
      "k8s.gcr.io/kube-apiserver                         v1.24.0              acde05a590759       75.5MB\n",
      "k8s.gcr.io/kube-controller-manager                v1.24.0              b1d312727171f       63.8MB\n",
      "k8s.gcr.io/kube-proxy                             v1.24.0              8c0e4131bc84f       108MB\n",
      "k8s.gcr.io/kube-scheduler                         v1.24.0              c084a0cb05440       51.3MB\n",
      "k8s.gcr.io/pause                                  3.6                  7d46a07936af9       254kB\n"
     ]
    }
   ],
   "source": [
    "!docker exec -it kind-control-plane crictl image"
   ]
  },
  {
   "cell_type": "markdown",
   "metadata": {},
   "source": [
    "## Create Cluster\n",
    "\n",
    "Using k3d instead of kind just because it has bundled load balancer and ingress services already."
   ]
  },
  {
   "cell_type": "code",
   "execution_count": null,
   "metadata": {},
   "outputs": [],
   "source": [
    "!k3d cluster create ml-zoomcamp -p '9090:80@loadbalancer' --registry-use k3d-registry.localhost:5000"
   ]
  },
  {
   "cell_type": "markdown",
   "metadata": {},
   "source": [
    "## Volume\n",
    "\n",
    "doesn't use because yaml config doesn't support relative path."
   ]
  },
  {
   "cell_type": "markdown",
   "metadata": {},
   "source": [
    "# Network access\n",
    "\n",
    "- internal\n",
    "    through local dns\n",
    "        - `<service_name>.<namespace>`, e.g gateway.default\n",
    "        - `<service_name>.<namespace>.svc.cluster.local\n",
    "\n",
    "- external\n",
    "    - service, LoadBalancer, NodePort\n",
    "        - NodePort doesn't work in mac, can't access the internal node ip.\n",
    "    - port forward\n",
    "        kubectl port-forward services/gateway 9999:8000\n",
    "    - ingress"
   ]
  },
  {
   "cell_type": "markdown",
   "metadata": {},
   "source": [
    "### Ingress with traefik\n",
    "\n",
    "check [ingress.yaml](./ingress.yaml)\n",
    "\n",
    "one entry to serve all backend service, there are 2 ways to differenciate services\n",
    "- host name, with this, I have to use `/etc/hosts` file or config a local dns for the private domain\n",
    "- prefix, this need traefik middle ware to stript the prefix or we'll get 404 response cause beckend service doesn't know the prefix path."
   ]
  },
  {
   "cell_type": "markdown",
   "metadata": {},
   "source": [
    "## Common commands\n",
    "\n",
    "- `get`, return list\n",
    "- `describe`, show detail"
   ]
  },
  {
   "cell_type": "code",
   "execution_count": 5,
   "metadata": {},
   "outputs": [
    {
     "name": "stdout",
     "output_type": "stream",
     "text": [
      "NAME         TYPE        CLUSTER-IP   EXTERNAL-IP   PORT(S)   AGE   SELECTOR\n",
      "kubernetes   ClusterIP   10.43.0.1    <none>        443/TCP   10m   <none>\n"
     ]
    }
   ],
   "source": [
    "!kubectl get service -o wide"
   ]
  },
  {
   "cell_type": "code",
   "execution_count": 6,
   "metadata": {},
   "outputs": [
    {
     "name": "stdout",
     "output_type": "stream",
     "text": [
      "No resources found in default namespace.\n"
     ]
    }
   ],
   "source": [
    "!kubectl get deployment -o wide"
   ]
  },
  {
   "cell_type": "code",
   "execution_count": 4,
   "metadata": {},
   "outputs": [
    {
     "name": "stdout",
     "output_type": "stream",
     "text": [
      "No resources found in default namespace.\n"
     ]
    }
   ],
   "source": [
    "!kubectl get pods -o wide"
   ]
  },
  {
   "cell_type": "markdown",
   "metadata": {},
   "source": []
  }
 ],
 "metadata": {
  "kernelspec": {
   "display_name": "Python 3.9.13 ('ml-zoomcamp-5e_EmHlr-py3.9')",
   "language": "python",
   "name": "python3"
  },
  "language_info": {
   "codemirror_mode": {
    "name": "ipython",
    "version": 3
   },
   "file_extension": ".py",
   "mimetype": "text/x-python",
   "name": "python",
   "nbconvert_exporter": "python",
   "pygments_lexer": "ipython3",
   "version": "3.9.13"
  },
  "orig_nbformat": 4,
  "vscode": {
   "interpreter": {
    "hash": "b4bc4b6ed1e2567043cad1030788dc5c503b3018155577f40296676f926e642c"
   }
  }
 },
 "nbformat": 4,
 "nbformat_minor": 2
}
