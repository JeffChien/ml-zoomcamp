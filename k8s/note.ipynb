{
 "cells": [
  {
   "cell_type": "markdown",
   "metadata": {},
   "source": [
    "## Volume\n",
    "\n",
    "doesn't use because yaml config doesn't support relative path."
   ]
  },
  {
   "cell_type": "markdown",
   "metadata": {},
   "source": [
    "# load docker image to k8s\n",
    "\n",
    "```\n",
    "kind load docker-image ml-zoomcamp_inference-ch2:latest\n",
    "kind load docker-image ml-zoomcamp_inference-gateway\n",
    "```"
   ]
  },
  {
   "cell_type": "markdown",
   "metadata": {},
   "source": [
    "List CRI images available for k8s."
   ]
  },
  {
   "cell_type": "code",
   "execution_count": 3,
   "metadata": {},
   "outputs": [
    {
     "name": "stdout",
     "output_type": "stream",
     "text": [
      "IMAGE                                             TAG                  IMAGE ID            SIZE\n",
      "docker.io/kindest/kindnetd                        v20220510-4929dd75   31d1852b05abc       43.8MB\n",
      "docker.io/kindest/local-path-helper               v20220512-507ff70b   9bc13867d19ca       2.75MB\n",
      "docker.io/kindest/local-path-provisioner          v0.0.22-kind.0       7902f9a1c54fa       15.6MB\n",
      "docker.io/library/ml-zoomcamp_inference-ch2       latest               1d5b92ee3172b       1GB\n",
      "docker.io/library/ml-zoomcamp_inference-gateway   latest               1ff49d080c415       2.32GB\n",
      "k8s.gcr.io/coredns/coredns                        v1.8.6               edaa71f2aee88       12.3MB\n",
      "k8s.gcr.io/etcd                                   3.5.3-0              a9a710bb96df0       81.1MB\n",
      "k8s.gcr.io/kube-apiserver                         v1.24.0              acde05a590759       75.5MB\n",
      "k8s.gcr.io/kube-controller-manager                v1.24.0              b1d312727171f       63.8MB\n",
      "k8s.gcr.io/kube-proxy                             v1.24.0              8c0e4131bc84f       108MB\n",
      "k8s.gcr.io/kube-scheduler                         v1.24.0              c084a0cb05440       51.3MB\n",
      "k8s.gcr.io/pause                                  3.6                  7d46a07936af9       254kB\n"
     ]
    }
   ],
   "source": [
    "!docker exec -it kind-control-plane crictl image"
   ]
  },
  {
   "cell_type": "markdown",
   "metadata": {},
   "source": [
    "# Network access\n",
    "\n",
    "- internal\n",
    "    through local dns\n",
    "        - `<service_name>.<namespace>`, e.g gateway.default\n",
    "        - `<service_name>.<namespace>.svc.cluster.local\n",
    "\n",
    "- external\n",
    "    - service, LoadBalancer, NodePort\n",
    "        - NodePort doesn't work in mac, can't access the internal node ip.\n",
    "    - port forward\n",
    "        kubectl port-forward services/gateway 9999:8000\n",
    "    - ingress"
   ]
  },
  {
   "cell_type": "markdown",
   "metadata": {},
   "source": [
    "## Common commands\n",
    "\n",
    "- `get`, return list\n",
    "- `describe`, show detail"
   ]
  },
  {
   "cell_type": "code",
   "execution_count": 7,
   "metadata": {},
   "outputs": [
    {
     "name": "stdout",
     "output_type": "stream",
     "text": [
      "NAME                   TYPE        CLUSTER-IP      EXTERNAL-IP   PORT(S)    AGE    SELECTOR\n",
      "ch2-inference-server   ClusterIP   10.96.146.45    <none>        9527/TCP   158m   app=ch2-inference-server\n",
      "gateway                ClusterIP   10.96.251.106   <none>        8000/TCP   132m   app=gateway\n",
      "kubernetes             ClusterIP   10.96.0.1       <none>        443/TCP    2d4h   <none>\n"
     ]
    }
   ],
   "source": [
    "!kubectl get service -o wide"
   ]
  },
  {
   "cell_type": "code",
   "execution_count": 8,
   "metadata": {},
   "outputs": [
    {
     "name": "stdout",
     "output_type": "stream",
     "text": [
      "NAME                   READY   UP-TO-DATE   AVAILABLE   AGE    CONTAINERS             IMAGES                          SELECTOR\n",
      "ch2-inference-server   1/1     1            1           169m   ch2-inference-server   ml-zoomcamp_inference-ch2       app=ch2-inference-server\n",
      "gateway                1/1     1            1           141m   gateway                ml-zoomcamp_inference-gateway   app=gateway\n"
     ]
    }
   ],
   "source": [
    "!kubectl get deployment -o wide"
   ]
  },
  {
   "cell_type": "code",
   "execution_count": 9,
   "metadata": {},
   "outputs": [
    {
     "name": "stdout",
     "output_type": "stream",
     "text": [
      "NAME                                    READY   STATUS    RESTARTS   AGE    IP            NODE                 NOMINATED NODE   READINESS GATES\n",
      "ch2-inference-server-69d4c4f76b-g2gdj   1/1     Running   0          169m   10.244.0.8    kind-control-plane   <none>           <none>\n",
      "gateway-565ffcc8bc-p2479                1/1     Running   0          117m   10.244.0.10   kind-control-plane   <none>           <none>\n"
     ]
    }
   ],
   "source": [
    "!kubectl get pods -o wide"
   ]
  },
  {
   "cell_type": "markdown",
   "metadata": {},
   "source": []
  }
 ],
 "metadata": {
  "kernelspec": {
   "display_name": "Python 3.9.13 ('ml-zoomcamp-5e_EmHlr-py3.9')",
   "language": "python",
   "name": "python3"
  },
  "language_info": {
   "codemirror_mode": {
    "name": "ipython",
    "version": 3
   },
   "file_extension": ".py",
   "mimetype": "text/x-python",
   "name": "python",
   "nbconvert_exporter": "python",
   "pygments_lexer": "ipython3",
   "version": "3.9.13"
  },
  "orig_nbformat": 4,
  "vscode": {
   "interpreter": {
    "hash": "b4bc4b6ed1e2567043cad1030788dc5c503b3018155577f40296676f926e642c"
   }
  }
 },
 "nbformat": 4,
 "nbformat_minor": 2
}
